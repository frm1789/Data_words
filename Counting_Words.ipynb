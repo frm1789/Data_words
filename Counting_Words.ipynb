{
  "nbformat": 4,
  "nbformat_minor": 0,
  "metadata": {
    "colab": {
      "provenance": [],
      "authorship_tag": "ABX9TyP6pjMY/h0eSRmwHheh1+ky",
      "include_colab_link": true
    },
    "kernelspec": {
      "name": "python3",
      "display_name": "Python 3"
    },
    "language_info": {
      "name": "python"
    }
  },
  "cells": [
    {
      "cell_type": "markdown",
      "metadata": {
        "id": "view-in-github",
        "colab_type": "text"
      },
      "source": [
        "<a href=\"https://colab.research.google.com/github/frm1789/Data_words/blob/main/Counting_Words.ipynb\" target=\"_parent\"><img src=\"https://colab.research.google.com/assets/colab-badge.svg\" alt=\"Open In Colab\"/></a>"
      ]
    },
    {
      "cell_type": "code",
      "execution_count": 35,
      "metadata": {
        "colab": {
          "base_uri": "https://localhost:8080/"
        },
        "id": "0iZl51X3_6i0",
        "outputId": "da8dcf17-8d70-4e14-9d71-5f94e7bbeb6b"
      },
      "outputs": [
        {
          "output_type": "stream",
          "name": "stdout",
          "text": [
            "5707\n",
            "Dictionary has  1103 keys\n"
          ]
        }
      ],
      "source": [
        "import re\n",
        "\n",
        "\n",
        "def word_count(file_path):\n",
        "    count_words_text = 0\n",
        "    word_counts = {}\n",
        "    with open(file_path, 'r') as file:\n",
        "        for line in file:\n",
        "            words = re.findall(r'\\b\\w+\\b', line)           \n",
        "            for word in words:\n",
        "                word_counts[word] = word_counts.get(word, 0) + 1\n",
        "                count_words_text = count_words_text + 1 \n",
        "    return word_counts, count_words_text\n",
        "\n",
        "file_path = \"text.txt\"\n",
        "total_word_counts, count_words_text = word_count(file_path)\n",
        "print(count_words_text)\n",
        "print(\"Dictionary has \", len(total_word_counts), \"keys\")"
      ]
    },
    {
      "cell_type": "code",
      "source": [
        "import re\n",
        "from collections import defaultdict\n",
        "from operator import itemgetter\n",
        "\n",
        "# Open the text file\n",
        "with open('text.txt', 'r') as f:\n",
        "    text = f.read()\n",
        "\n",
        "# Create an empty dictionary\n",
        "word_count = defaultdict(int)\n",
        "\n",
        "# Split the text into words and count the occurrences of each word\n",
        "for word in re.findall(r'\\b\\w+\\b', text):\n",
        "    word_count[word] += 1\n",
        "\n",
        "# Sort the dictionary alphabetically\n",
        "sorted_word_count = dict(sorted(word_count.items(), key=itemgetter(0)))\n",
        "\n",
        "# Count the number of elements in the dictionary\n",
        "elements_count = len(sorted_word_count)\n",
        "print(f\"\\nDictionary has {elements_count} elements.\")\n",
        "\n",
        "# Print the word count as a table\n",
        "# print('Word'.ljust(20), 'Count'.rjust(10))\n",
        "# print('-'*30)\n",
        "# for word, count in sorted_word_count.items():\n",
        "#    print(word.ljust(20), str(count).rjust(10))\n",
        "\n"
      ],
      "metadata": {
        "colab": {
          "base_uri": "https://localhost:8080/"
        },
        "id": "FO52K1Kqdwmf",
        "outputId": "f51df76c-2df5-408d-dc5d-efead340f7fa"
      },
      "execution_count": 5,
      "outputs": [
        {
          "output_type": "stream",
          "name": "stdout",
          "text": [
            "\n",
            "Dictionary has 1103 elements.\n"
          ]
        }
      ]
    },
    {
      "cell_type": "code",
      "source": [
        "#remove word occuring less than 3 times \n",
        "for word in list(word_counts):\n",
        "    if word_counts[word] < 3:\n",
        "       del word_counts[word]\n",
        "\n",
        "#sorting the dictionary\n",
        "sorted_dict = dict(sorted(word_counts.items(), key=lambda item: item[1], reverse=True))\n",
        "\n",
        "\n",
        "# Count the number of elements in the dictionary\n",
        "elements_count = len(sorted_dict)\n",
        "print(f\"\\nDictionary has {elements_count} elements.\")\n",
        "\n",
        "\n"
      ],
      "metadata": {
        "colab": {
          "base_uri": "https://localhost:8080/"
        },
        "id": "51gnRU8neVsk",
        "outputId": "920bc6dc-9fb2-407d-b460-f471f549aa28"
      },
      "execution_count": 6,
      "outputs": [
        {
          "output_type": "stream",
          "name": "stdout",
          "text": [
            "\n",
            "Dictionary has 392 elements.\n"
          ]
        }
      ]
    },
    {
      "cell_type": "code",
      "source": [
        "# Creating a dictionary with high frequency words\n",
        "high_frequency = {word: frequency for word, frequency in sorted_dict.items() if frequency >=3 }\n",
        "\n",
        "# Count the number of elements in the dictionary\n",
        "elements_count = len(high_frequency)\n",
        "print(f\"\\nDictionary has {elements_count} elements.\")\n",
        "\n",
        "\n",
        "#print('Word'.ljust(20), 'Count'.rjust(10))\n",
        "#print('-'*30)\n",
        "#for word, count in high_frequency.items():\n",
        "#    print(word.ljust(20), str(count).rjust(10))\n"
      ],
      "metadata": {
        "colab": {
          "base_uri": "https://localhost:8080/"
        },
        "id": "K59FSq3amZaN",
        "outputId": "10e1f0e5-d3bb-4426-d0ad-1bfa42f7cf83"
      },
      "execution_count": 21,
      "outputs": [
        {
          "output_type": "stream",
          "name": "stdout",
          "text": [
            "\n",
            "Dictionary has 392 elements.\n"
          ]
        }
      ]
    },
    {
      "cell_type": "code",
      "source": [
        "hf_K = ['a', 'me', 'to', 'yes', 'big', 'I', 'go', 'in', 'cat', 'for', 'is', 'at', 'on', 'dog', 'he', 'the', 'you', 'like', 'up', 'she', 'mom', 'we', 'my', 'with', 'this', 'dad', 'it', 'by',\n",
        "        'said', 'look', 'can', 'no', 'love', 'play', 'went', 'see', 'am', 'do', 'was', 'and']"
      ],
      "metadata": {
        "id": "drQLU285pnrW"
      },
      "execution_count": 8,
      "outputs": []
    },
    {
      "cell_type": "code",
      "source": [
        "hf_F = ['after', 'have', 'please', 'all', 'her', 'saw', 'an', 'here', 'should', 'are', 'him', 'so', 'as', 'his', 'some', 'be', 'I’m', 'thank', 'because', 'if', 'that', 'but', 'into', 'them', \n",
        "        'came', 'just', 'then', 'come', 'know', 'they', 'could', 'little', 'there', 'day', 'make', 'us', 'did', 'many', 'very', 'end', 'new', 'want', 'from', 'not', 'were', 'get', 'of', 'what',\n",
        "        'goes', 'one', 'when', 'going', 'or', 'where', 'good', 'our', 'who', 'had', 'out', 'will', 'has', 'over', 'would','your' ]\n"
      ],
      "metadata": {
        "id": "-01Z4Q2RtGxR"
      },
      "execution_count": 17,
      "outputs": []
    },
    {
      "cell_type": "code",
      "source": [
        "import re\n",
        "\n",
        "def word_count(file_path):\n",
        "    with open(file_path, 'r') as f:\n",
        "        text = f.read()\n",
        "        # Use regular expressions to split the text into words\n",
        "        words = re.findall(r'\\b\\w+\\b', text)\n",
        "        # Create an empty dictionary to store the word count\n",
        "        word_count = {}\n",
        "        for word in words:\n",
        "            # If the word is already in the dictionary, increment the count\n",
        "            if word in word_count:\n",
        "                word_count[word] += 1\n",
        "            # If the word is not in the dictionary, add it and set the count to 1\n",
        "            else:\n",
        "                word_count[word] = 1\n",
        "    return word_count\n",
        "\n",
        "word_count_dict = word_count('text.txt')\n",
        "\n",
        "# Create a new dictionary to store the count of the words in hf_K\n",
        "hf_K_count = {word: word_count_dict.get(word, 0) for word in hf_K}\n",
        "\n",
        "# Create a new dictionary to store the count of the words in hf_F\n",
        "hf_F_count = {word: word_count_dict.get(word, 0) for word in hf_F}\n",
        "\n",
        "# Count the number of elements in the dictionary\n",
        "elements_count = len(hf_K_count)\n",
        "print(f\"\\n HF Kindergarten has {elements_count} elements.\")\n",
        "\n",
        "# Count the number of elements in the dictionary\n",
        "elements_count = len(hf_F_count)\n",
        "print(f\"\\n HF First Grade has {elements_count} elements.\")\n",
        "\n"
      ],
      "metadata": {
        "colab": {
          "base_uri": "https://localhost:8080/"
        },
        "id": "SEclXz1hrwVr",
        "outputId": "d526bfa8-13f7-46fa-ba96-0c006f70c641"
      },
      "execution_count": 22,
      "outputs": [
        {
          "output_type": "stream",
          "name": "stdout",
          "text": [
            "\n",
            " HF Kindergarten has 40 elements.\n",
            "\n",
            " HF First Grade has 64 elements.\n",
            "64\n"
          ]
        }
      ]
    },
    {
      "cell_type": "code",
      "source": [
        "print('Word'.ljust(20), 'Count'.rjust(10))\n",
        "print('-'*30)\n",
        "total = 0 \n",
        "for word, count in hf_F_count.items():\n",
        "   print(word.ljust(20), str(count).rjust(10))\n",
        "   total = count + total\n",
        "\n",
        "percentage = total/count_words_text*100\n",
        "print(\"\\nTotal words that belongs of the category high frequency words - 1 Grade: \", total)\n",
        "print(\"\\nTotal percentage of words:\", percentage)"
      ],
      "metadata": {
        "colab": {
          "base_uri": "https://localhost:8080/"
        },
        "id": "RtijQJw5RIUj",
        "outputId": "023cd65f-ca51-4161-f3e5-00ca00022212"
      },
      "execution_count": 39,
      "outputs": [
        {
          "output_type": "stream",
          "name": "stdout",
          "text": [
            "Word                      Count\n",
            "------------------------------\n",
            "after                         3\n",
            "have                          5\n",
            "please                        0\n",
            "all                          10\n",
            "her                          35\n",
            "saw                           6\n",
            "an                            5\n",
            "here                         15\n",
            "should                        2\n",
            "are                           8\n",
            "him                          24\n",
            "so                            4\n",
            "as                           10\n",
            "his                          69\n",
            "some                          4\n",
            "be                            8\n",
            "I’m                           0\n",
            "thank                         0\n",
            "because                       0\n",
            "if                            6\n",
            "that                         10\n",
            "but                           0\n",
            "into                         22\n",
            "them                          7\n",
            "came                          3\n",
            "just                          8\n",
            "then                          7\n",
            "come                          3\n",
            "know                         12\n",
            "they                         12\n",
            "could                         7\n",
            "little                        0\n",
            "there                        11\n",
            "day                           0\n",
            "make                          1\n",
            "us                            9\n",
            "did                           2\n",
            "many                          2\n",
            "very                          6\n",
            "end                           0\n",
            "new                           0\n",
            "want                          4\n",
            "from                         11\n",
            "not                           7\n",
            "were                         23\n",
            "get                           6\n",
            "of                           61\n",
            "what                          9\n",
            "goes                          0\n",
            "one                          11\n",
            "when                          2\n",
            "going                        15\n",
            "or                            1\n",
            "where                         4\n",
            "good                          2\n",
            "our                           2\n",
            "who                           5\n",
            "had                          17\n",
            "out                          44\n",
            "will                          0\n",
            "has                           0\n",
            "over                         12\n",
            "would                         3\n",
            "your                          3\n",
            "\n",
            "Total words that belongs of the category high frequency words - 1 Grade:  578\n",
            "\n",
            "Total percentage of words: 10.127913089188716\n"
          ]
        }
      ]
    }
  ]
}