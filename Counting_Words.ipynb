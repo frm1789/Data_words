{
  "nbformat": 4,
  "nbformat_minor": 0,
  "metadata": {
    "colab": {
      "provenance": [],
      "authorship_tag": "ABX9TyM/xLM3JZTuHvC/1+fkVWuX",
      "include_colab_link": true
    },
    "kernelspec": {
      "name": "python3",
      "display_name": "Python 3"
    },
    "language_info": {
      "name": "python"
    }
  },
  "cells": [
    {
      "cell_type": "markdown",
      "metadata": {
        "id": "view-in-github",
        "colab_type": "text"
      },
      "source": [
        "<a href=\"https://colab.research.google.com/github/frm1789/Data_words/blob/main/Counting_Words.ipynb\" target=\"_parent\"><img src=\"https://colab.research.google.com/assets/colab-badge.svg\" alt=\"Open In Colab\"/></a>"
      ]
    },
    {
      "cell_type": "code",
      "execution_count": 8,
      "metadata": {
        "colab": {
          "base_uri": "https://localhost:8080/"
        },
        "id": "0iZl51X3_6i0",
        "outputId": "e158429e-265e-453d-d605-61710f909ef4"
      },
      "outputs": [
        {
          "output_type": "stream",
          "name": "stdout",
          "text": [
            "5707\n",
            "Dictionary has  1103 keys\n"
          ]
        }
      ],
      "source": [
        "import re\n",
        "\n",
        "def word_count(file_path):\n",
        "    count_words_text = 0\n",
        "    word_counts = {}\n",
        "    with open(file_path, 'r') as file:\n",
        "        for line in file:\n",
        "            words = re.findall(r'\\b\\w+\\b', line)           \n",
        "            for word in words:\n",
        "                word_counts[word] = word_counts.get(word, 0) + 1\n",
        "                count_words_text = count_words_text + 1 \n",
        "    return word_counts, count_words_text\n",
        "\n",
        "file_path = \"text.txt\"\n",
        "total_word_counts, count_words_text = word_count(file_path)\n",
        "print(count_words_text)\n",
        "print(\"Dictionary has \", len(total_word_counts), \"keys\")"
      ]
    },
    {
      "cell_type": "code",
      "source": [
        "import re\n",
        "from collections import defaultdict\n",
        "from operator import itemgetter\n",
        "\n",
        "# Open the text file\n",
        "with open('text.txt', 'r') as f:\n",
        "    text = f.read()\n",
        "\n",
        "# Create an empty dictionary\n",
        "word_count = defaultdict(int)\n",
        "\n",
        "# Split the text into words and count the occurrences of each word\n",
        "for word in re.findall(r'\\b\\w+\\b', text):\n",
        "    word_count[word] += 1\n",
        "\n",
        "# Sort the dictionary alphabetically\n",
        "sorted_word_count = dict(sorted(word_count.items(), key=itemgetter(0)))\n",
        "\n",
        "# Count the number of elements in the dictionary\n",
        "elements_count = len(sorted_word_count)\n",
        "print(f\"\\nDictionary has {elements_count} elements.\")\n",
        "\n",
        "# Print the word count as a table\n",
        "# print('Word'.ljust(20), 'Count'.rjust(10))\n",
        "# print('-'*30)\n",
        "# for word, count in sorted_word_count.items():\n",
        "#    print(word.ljust(20), str(count).rjust(10))\n",
        "\n"
      ],
      "metadata": {
        "colab": {
          "base_uri": "https://localhost:8080/"
        },
        "id": "FO52K1Kqdwmf",
        "outputId": "3f17215b-f9f9-4a54-f97e-c9682aa6af24"
      },
      "execution_count": 9,
      "outputs": [
        {
          "output_type": "stream",
          "name": "stdout",
          "text": [
            "\n",
            "Dictionary has 1103 elements.\n"
          ]
        }
      ]
    },
    {
      "cell_type": "code",
      "source": [
        "#remove word occuring less than 3 times \n",
        "for word in list(sorted_word_count):\n",
        "    if sorted_word_count[word] < 3:\n",
        "       del sorted_word_count[word]\n",
        "\n",
        "#sorting the dictionary\n",
        "sorted_dict = dict(sorted(sorted_word_count.items(), key=lambda item: item[1], reverse=True))\n",
        "\n",
        "\n",
        "# Count the number of elements in the dictionary\n",
        "elements_count = len(sorted_dict)\n",
        "print(f\"\\nDictionary has {elements_count} elements.\")\n",
        "\n",
        "\n"
      ],
      "metadata": {
        "colab": {
          "base_uri": "https://localhost:8080/"
        },
        "id": "51gnRU8neVsk",
        "outputId": "eecf673c-a9a7-4cce-f520-55f749122fc6"
      },
      "execution_count": 11,
      "outputs": [
        {
          "output_type": "stream",
          "name": "stdout",
          "text": [
            "\n",
            "Dictionary has 392 elements.\n"
          ]
        }
      ]
    },
    {
      "cell_type": "code",
      "source": [
        "# Creating a dictionary with high frequency words\n",
        "high_frequency = {word: frequency for word, frequency in sorted_word_count.items() if frequency >=3 }\n",
        "\n",
        "# Count the number of elements in the dictionary\n",
        "elements_count = len(high_frequency)\n",
        "print(f\"\\nDictionary has {elements_count} elements.\")\n",
        "\n",
        "\n",
        "#print('Word'.ljust(20), 'Count'.rjust(10))\n",
        "#print('-'*30)\n",
        "#for word, count in high_frequency.items():\n",
        "#    print(word.ljust(20), str(count).rjust(10))\n"
      ],
      "metadata": {
        "colab": {
          "base_uri": "https://localhost:8080/"
        },
        "id": "K59FSq3amZaN",
        "outputId": "deebfee2-a930-4d8e-d705-7fe0f8c543b9"
      },
      "execution_count": 12,
      "outputs": [
        {
          "output_type": "stream",
          "name": "stdout",
          "text": [
            "\n",
            "Dictionary has 392 elements.\n"
          ]
        }
      ]
    },
    {
      "cell_type": "code",
      "source": [
        "hf_K = ['a', 'me', 'to', 'yes', 'big', 'I', 'go', 'in', 'cat', 'for', 'is', 'at', 'on', 'dog', 'he', 'the', 'you', 'like', 'up', 'she', 'mom', 'we', 'my', 'with', 'this', 'dad', 'it', 'by',\n",
        "        'said', 'look', 'can', 'no', 'love', 'play', 'went', 'see', 'am', 'do', 'was', 'and']"
      ],
      "metadata": {
        "id": "drQLU285pnrW"
      },
      "execution_count": 13,
      "outputs": []
    },
    {
      "cell_type": "code",
      "source": [
        "hf_F = ['after', 'have', 'please', 'all', 'her', 'saw', 'an', 'here', 'should', 'are', 'him', 'so', 'as', 'his', 'some', 'be', 'I’m', 'thank', 'because', 'if', 'that', 'but', 'into', 'them', \n",
        "        'came', 'just', 'then', 'come', 'know', 'they', 'could', 'little', 'there', 'day', 'make', 'us', 'did', 'many', 'very', 'end', 'new', 'want', 'from', 'not', 'were', 'get', 'of', 'what',\n",
        "        'goes', 'one', 'when', 'going', 'or', 'where', 'good', 'our', 'who', 'had', 'out', 'will', 'has', 'over', 'would','your' ]\n"
      ],
      "metadata": {
        "id": "-01Z4Q2RtGxR"
      },
      "execution_count": 14,
      "outputs": []
    },
    {
      "cell_type": "code",
      "source": [
        "hf_S = ['about', 'again', 'any', 'around', 'ask', 'away', 'back', 'before', 'been', 'begin', 'best', 'blue', 'black', 'boy', 'bring', 'brown', 'can’t', 'catch', 'class', \n",
        "        'coming', 'didn’t', 'does', 'done', 'don’t', 'down', 'each', 'family', 'place', 'fast', 'put', 'find', 'read', 'first', 'really', 'five', 'red', 'four', 'right',\n",
        "        'friend', 'gave', 'school', 'second', 'girl', 'seen', 'gone', 'six', 'grade', 'small', 'got', 'than', 'green', 'their', 'help', 'happy', 'third', 'home', 'three', \n",
        "        'house', 'time', 'how', 'today', 'jump', 'two', 'keep', 'under', 'knew', 'use', 'light', 'walk', 'long', 'week', 'most', 'why', 'never', 'work', 'yellow', 'they’re',\n",
        "        'next', 'easy', 'now', 'every', 'over']"
      ],
      "metadata": {
        "id": "JsGYehDB8luS"
      },
      "execution_count": 15,
      "outputs": []
    },
    {
      "cell_type": "code",
      "source": [
        "hf_T = ['also', 'animal', 'April', 'asked', 'August', 'books', 'brother', 'call', 'care', 'caught', 'caught', 'children', 'city', 'December', 'drink', 'eight', 'eleven',\n",
        "        'ever', 'father', 'favorite', 'February', 'found', 'Friday', 'friend', 'give', 'also', 'animal', 'April', 'asked', 'August', 'books', 'brother', 'call', 'care',\n",
        "        'caught', 'children', 'city', 'December', 'drink', 'eight', 'eleven', 'ever', 'father', 'favorite', 'February', 'found', 'Friday', 'friend', 'give', 'great', \n",
        "        'also' 'animal' 'April', 'asked', 'August', 'books', 'brother', 'call', 'care', 'caught', 'caught', 'children', 'city', 'December', 'drink', 'eight', 'eleven',\n",
        "        'ever', 'father', 'favorite', 'February', 'found', 'Friday', 'friend', 'give', 'great', 'gym', 'half', 'hour', 'hurt', 'January', 'July', 'June', 'kind', 'line', \n",
        "        'mail', 'March', 'May', 'maybe', 'Michigan', 'might', 'Monday', 'mother', 'must', 'night', 'nine', 'November', 'October', 'old', 'other', 'people', 'pretty', 'questions',\n",
        "        'rain', 'rest', 'same', 'Saturday', 'September', 'seven', 'sister', 'snow', 'something', 'stay', 'street', 'such', 'Sunday', 'sure', 'talk', 'teacher', 'tell', \n",
        "        'thing', 'Thursday', 'too', 'Tuesday', 'twelve', 'Wednesday', 'phone']\n",
        "\n",
        "                                                                           "
      ],
      "metadata": {
        "id": "pLmQn62F9-B5"
      },
      "execution_count": 16,
      "outputs": []
    },
    {
      "cell_type": "code",
      "source": [
        "combined_list = hf_K + hf_F + hf_S + hf_T\n",
        "unique_list = list(set(combined_list))\n",
        "unique_list.sort()\n",
        "print(unique_list)\n",
        "print(len(unique_list))"
      ],
      "metadata": {
        "id": "gR1FgCtEDBhi",
        "outputId": "64e9afcf-945d-4bcf-b06e-396605487e37",
        "colab": {
          "base_uri": "https://localhost:8080/"
        }
      },
      "execution_count": 22,
      "outputs": [
        {
          "output_type": "stream",
          "name": "stdout",
          "text": [
            "['April', 'August', 'December', 'February', 'Friday', 'I', 'I’m', 'January', 'July', 'June', 'March', 'May', 'Michigan', 'Monday', 'November', 'October', 'Saturday', 'September', 'Sunday', 'Thursday', 'Tuesday', 'Wednesday', 'a', 'about', 'after', 'again', 'all', 'also', 'alsoanimalApril', 'am', 'an', 'and', 'animal', 'any', 'are', 'around', 'as', 'ask', 'asked', 'at', 'away', 'back', 'be', 'because', 'been', 'before', 'begin', 'best', 'big', 'black', 'blue', 'books', 'boy', 'bring', 'brother', 'brown', 'but', 'by', 'call', 'came', 'can', 'can’t', 'care', 'cat', 'catch', 'caught', 'children', 'city', 'class', 'come', 'coming', 'could', 'dad', 'day', 'did', 'didn’t', 'do', 'does', 'dog', 'done', 'don’t', 'down', 'drink', 'each', 'easy', 'eight', 'eleven', 'end', 'ever', 'every', 'family', 'fast', 'father', 'favorite', 'find', 'first', 'five', 'for', 'found', 'four', 'friend', 'from', 'gave', 'get', 'girl', 'give', 'go', 'goes', 'going', 'gone', 'good', 'got', 'grade', 'great', 'green', 'gym', 'had', 'half', 'happy', 'has', 'have', 'he', 'help', 'her', 'here', 'him', 'his', 'home', 'hour', 'house', 'how', 'hurt', 'if', 'in', 'into', 'is', 'it', 'jump', 'just', 'keep', 'kind', 'knew', 'know', 'light', 'like', 'line', 'little', 'long', 'look', 'love', 'mail', 'make', 'many', 'maybe', 'me', 'might', 'mom', 'most', 'mother', 'must', 'my', 'never', 'new', 'next', 'night', 'nine', 'no', 'not', 'now', 'of', 'old', 'on', 'one', 'or', 'other', 'our', 'out', 'over', 'people', 'phone', 'place', 'play', 'please', 'pretty', 'put', 'questions', 'rain', 'read', 'really', 'red', 'rest', 'right', 'said', 'same', 'saw', 'school', 'second', 'see', 'seen', 'seven', 'she', 'should', 'sister', 'six', 'small', 'snow', 'so', 'some', 'something', 'stay', 'street', 'such', 'sure', 'talk', 'teacher', 'tell', 'than', 'thank', 'that', 'the', 'their', 'them', 'then', 'there', 'they', 'they’re', 'thing', 'third', 'this', 'three', 'time', 'to', 'today', 'too', 'twelve', 'two', 'under', 'up', 'us', 'use', 'very', 'walk', 'want', 'was', 'we', 'week', 'went', 'were', 'what', 'when', 'where', 'who', 'why', 'will', 'with', 'work', 'would', 'yellow', 'yes', 'you', 'your']\n",
            "261\n"
          ]
        }
      ]
    },
    {
      "cell_type": "code",
      "source": [
        "import re\n",
        "\n",
        "def word_count(file_path):\n",
        "    with open(file_path, 'r') as f:\n",
        "        text = f.read()\n",
        "        # Use regular expressions to split the text into words\n",
        "        words = re.findall(r'\\b\\w+\\b', text)\n",
        "        # Create an empty dictionary to store the word count\n",
        "        word_count = {}\n",
        "        for word in words:\n",
        "            # If the word is already in the dictionary, increment the count\n",
        "            if word in word_count:\n",
        "                word_count[word] += 1\n",
        "            # If the word is not in the dictionary, add it and set the count to 1\n",
        "            else:\n",
        "                word_count[word] = 1\n",
        "    return word_count\n",
        "\n",
        "word_count_dict = word_count('text.txt')\n",
        "\n",
        "# Create a new dictionary to store the count of the words in hf_K\n",
        "hf_K_count = {word: word_count_dict.get(word, 0) for word in hf_K}\n",
        "\n",
        "# Create a new dictionary to store the count of the words in hf_F\n",
        "hf_F_count = {word: word_count_dict.get(word, 0) for word in hf_F}\n",
        "\n",
        "# Create a new dictionary to store the count of the words in hf_F\n",
        "hf_S_count = {word: word_count_dict.get(word, 0) for word in hf_S}\n",
        "\n",
        "# Create a new dictionary to store the count of the words in hf_F\n",
        "hf_T_count = {word: word_count_dict.get(word, 0) for word in hf_T}\n",
        "\n",
        "# Create a new dictionary to store the count of the words in hf_F\n",
        "hf_Total_count = {word: word_count_dict.get(word, 0) for word in unique_list}\n",
        "\n",
        "# Count the number of elements in the dictionary\n",
        "elements_count = len(hf_K_count)\n",
        "print(f\"\\n HF Kindergarten has {elements_count} elements.\")\n",
        "\n",
        "# Count the number of elements in the dictionary\n",
        "elements_count = len(hf_F_count)\n",
        "print(f\"\\n HF First Grade has {elements_count} elements.\")\n",
        "\n",
        "# Count the number of elements in the dictionary\n",
        "elements_count = len(hf_S_count)\n",
        "print(f\"\\n HF Second Grade has {elements_count} elements.\")\n",
        "\n",
        "# Count the number of elements in the dictionary\n",
        "elements_count = len(hf_T_count)\n",
        "print(f\"\\n HF Third Grade has {elements_count} elements.\")\n",
        "\n",
        "# Count the number of elements in the dictionary\n",
        "elements_count = len(hf_Total_count)\n",
        "print(f\"\\n HF Total Grade has {elements_count} elements.\")"
      ],
      "metadata": {
        "colab": {
          "base_uri": "https://localhost:8080/"
        },
        "id": "SEclXz1hrwVr",
        "outputId": "c7bc14d8-e22f-480a-8067-e43f41f9cce3"
      },
      "execution_count": 25,
      "outputs": [
        {
          "output_type": "stream",
          "name": "stdout",
          "text": [
            "\n",
            " HF Kindergarten has 40 elements.\n",
            "\n",
            " HF First Grade has 64 elements.\n",
            "\n",
            " HF Second Grade has 82 elements.\n",
            "\n",
            " HF Third Grade has 77 elements.\n",
            "\n",
            " HF Third Grade has 261 elements.\n"
          ]
        }
      ]
    },
    {
      "cell_type": "code",
      "source": [
        "print('Word'.ljust(20), 'Count'.rjust(10))\n",
        "print('-'*30)\n",
        "total = 0 \n",
        "for word, count in hf_Total_count.items():\n",
        "   print(word.ljust(20), str(count).rjust(10))\n",
        "   total = count + total\n",
        "\n",
        "percentage = total/count_words_text*100\n",
        "#print(\"\\nTotal words that belongs of the category high frequency words - 1 Grade: \", total)\n",
        "print(\"\\nTotal percentage of words:\", percentage)"
      ],
      "metadata": {
        "colab": {
          "base_uri": "https://localhost:8080/"
        },
        "id": "RtijQJw5RIUj",
        "outputId": "488a4f22-5224-495e-f654-9f521b558d51"
      },
      "execution_count": 27,
      "outputs": [
        {
          "output_type": "stream",
          "name": "stdout",
          "text": [
            "Word                      Count\n",
            "------------------------------\n",
            "April                         0\n",
            "August                        0\n",
            "December                      0\n",
            "February                      0\n",
            "Friday                        0\n",
            "I                            48\n",
            "I’m                           0\n",
            "January                       0\n",
            "July                          0\n",
            "June                          0\n",
            "March                         0\n",
            "May                           0\n",
            "Michigan                      0\n",
            "Monday                        0\n",
            "November                      0\n",
            "October                       0\n",
            "Saturday                      0\n",
            "September                     0\n",
            "Sunday                        0\n",
            "Thursday                      0\n",
            "Tuesday                       0\n",
            "Wednesday                     0\n",
            "a                            95\n",
            "about                        13\n",
            "after                         3\n",
            "again                        12\n",
            "all                          10\n",
            "also                          0\n",
            "alsoanimalApril               0\n",
            "am                            0\n",
            "an                            5\n",
            "and                          58\n",
            "animal                        1\n",
            "any                           1\n",
            "are                           8\n",
            "around                        8\n",
            "as                           10\n",
            "ask                           0\n",
            "asked                         7\n",
            "at                           55\n",
            "away                         11\n",
            "back                         27\n",
            "be                            8\n",
            "because                       0\n",
            "been                          2\n",
            "before                        5\n",
            "begin                         0\n",
            "best                          0\n",
            "big                           6\n",
            "black                         1\n",
            "blue                          1\n",
            "books                        13\n",
            "boy                           0\n",
            "bring                         0\n",
            "brother                       2\n",
            "brown                         0\n",
            "but                           0\n",
            "by                            5\n",
            "call                          2\n",
            "came                          3\n",
            "can                           9\n",
            "can’t                         0\n",
            "care                          0\n",
            "cat                           0\n",
            "catch                         1\n",
            "caught                        1\n",
            "children                      0\n",
            "city                          0\n",
            "class                         0\n",
            "come                          3\n",
            "coming                        8\n",
            "could                         7\n",
            "dad                           1\n",
            "day                           0\n",
            "did                           2\n",
            "didn’t                        0\n",
            "do                            6\n",
            "does                          0\n",
            "dog                           5\n",
            "done                          0\n",
            "don’t                         0\n",
            "down                         37\n",
            "drink                         0\n",
            "each                          0\n",
            "easy                          0\n",
            "eight                         1\n",
            "eleven                        0\n",
            "end                           0\n",
            "ever                          3\n",
            "every                         0\n",
            "family                        0\n",
            "fast                          1\n",
            "father                        0\n",
            "favorite                      0\n",
            "find                          2\n",
            "first                         3\n",
            "five                          0\n",
            "for                          20\n",
            "found                         5\n",
            "four                          0\n",
            "friend                        0\n",
            "from                         11\n",
            "gave                          2\n",
            "get                           6\n",
            "girl                          0\n",
            "give                          0\n",
            "go                           13\n",
            "goes                          0\n",
            "going                        15\n",
            "gone                          3\n",
            "good                          2\n",
            "got                           5\n",
            "grade                         1\n",
            "great                         0\n",
            "green                         1\n",
            "gym                           0\n",
            "had                          17\n",
            "half                          1\n",
            "happy                         1\n",
            "has                           0\n",
            "have                          5\n",
            "he                           54\n",
            "help                          2\n",
            "her                          35\n",
            "here                         15\n",
            "him                          24\n",
            "his                          69\n",
            "home                          6\n",
            "hour                          0\n",
            "house                        43\n",
            "how                           3\n",
            "hurt                          0\n",
            "if                            6\n",
            "in                           47\n",
            "into                         22\n",
            "is                            9\n",
            "it                           46\n",
            "jump                          0\n",
            "just                          8\n",
            "keep                          0\n",
            "kind                          1\n",
            "knew                          1\n",
            "know                         12\n",
            "light                         7\n",
            "like                         11\n",
            "line                          0\n",
            "little                        0\n",
            "long                         10\n",
            "look                          9\n",
            "love                          0\n",
            "mail                          0\n",
            "make                          1\n",
            "many                          2\n",
            "maybe                         1\n",
            "me                            4\n",
            "might                         2\n",
            "mom                           1\n",
            "most                          0\n",
            "mother                        2\n",
            "must                          2\n",
            "my                            5\n",
            "never                         1\n",
            "new                           0\n",
            "next                          4\n",
            "night                         0\n",
            "nine                          0\n",
            "no                            6\n",
            "not                           7\n",
            "now                           6\n",
            "of                           61\n",
            "old                           3\n",
            "on                           32\n",
            "one                          11\n",
            "or                            1\n",
            "other                         6\n",
            "our                           2\n",
            "out                          44\n",
            "over                         12\n",
            "people                        3\n",
            "phone                         0\n",
            "place                         7\n",
            "play                          0\n",
            "please                        0\n",
            "pretty                        0\n",
            "put                          11\n",
            "questions                     0\n",
            "rain                          0\n",
            "read                          6\n",
            "really                        2\n",
            "red                           0\n",
            "rest                          0\n",
            "right                         3\n",
            "said                        146\n",
            "same                          4\n",
            "saw                           6\n",
            "school                        1\n",
            "second                        0\n",
            "see                          11\n",
            "seen                          2\n",
            "seven                         2\n",
            "she                          32\n",
            "should                        2\n",
            "sister                        2\n",
            "six                           0\n",
            "small                         0\n",
            "snow                          0\n",
            "so                            4\n",
            "some                          4\n",
            "something                     4\n",
            "stay                          0\n",
            "street                        1\n",
            "such                          0\n",
            "sure                          4\n",
            "talk                          4\n",
            "teacher                       2\n",
            "tell                          4\n",
            "than                          3\n",
            "thank                         0\n",
            "that                         10\n",
            "the                         325\n",
            "their                        12\n",
            "them                          7\n",
            "then                          7\n",
            "there                        11\n",
            "they                         12\n",
            "they’re                       0\n",
            "thing                         1\n",
            "third                         2\n",
            "this                         14\n",
            "three                         1\n",
            "time                         13\n",
            "to                          118\n",
            "today                         2\n",
            "too                           6\n",
            "twelve                        0\n",
            "two                           4\n",
            "under                         2\n",
            "up                           48\n",
            "us                            9\n",
            "use                           1\n",
            "very                          6\n",
            "walk                          0\n",
            "want                          4\n",
            "was                          98\n",
            "we                           17\n",
            "week                          0\n",
            "went                          5\n",
            "were                         23\n",
            "what                          9\n",
            "when                          2\n",
            "where                         4\n",
            "who                           5\n",
            "why                           1\n",
            "will                          0\n",
            "with                         23\n",
            "work                          0\n",
            "would                         3\n",
            "yellow                        0\n",
            "yes                           0\n",
            "you                          31\n",
            "your                          3\n",
            "\n",
            "Total percentage of words: 41.755738566672505\n"
          ]
        }
      ]
    }
  ]
}