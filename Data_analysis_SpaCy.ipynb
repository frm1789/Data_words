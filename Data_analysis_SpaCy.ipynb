{
  "nbformat": 4,
  "nbformat_minor": 0,
  "metadata": {
    "colab": {
      "provenance": [],
      "authorship_tag": "ABX9TyMY6YgZWU8zCpX7tJ0HMv0T",
      "include_colab_link": true
    },
    "kernelspec": {
      "name": "python3",
      "display_name": "Python 3"
    },
    "language_info": {
      "name": "python"
    }
  },
  "cells": [
    {
      "cell_type": "markdown",
      "metadata": {
        "id": "view-in-github",
        "colab_type": "text"
      },
      "source": [
        "<a href=\"https://colab.research.google.com/github/frm1789/Data_words/blob/main/Data_analysis_SpaCy.ipynb\" target=\"_parent\"><img src=\"https://colab.research.google.com/assets/colab-badge.svg\" alt=\"Open In Colab\"/></a>"
      ]
    },
    {
      "cell_type": "markdown",
      "source": [
        "## How many high frequency words are in a text?\n",
        "In this case, I chose the book \"Dinosaur at dark\" from the well-known series of book, \"The tree magic house\".\n"
      ],
      "metadata": {
        "id": "tvAFO7dBfoSd"
      }
    },
    {
      "cell_type": "markdown",
      "source": [
        "1) Import Spacy and setting the language: English."
      ],
      "metadata": {
        "id": "D5GZ3J6kg1X_"
      }
    },
    {
      "cell_type": "code",
      "source": [
        "import spacy\n",
        "nlp = spacy.load('en_core_web_sm')"
      ],
      "metadata": {
        "id": "_jgc7YLLvEPl"
      },
      "execution_count": 32,
      "outputs": []
    },
    {
      "cell_type": "markdown",
      "source": [
        "2) Read the text and token it."
      ],
      "metadata": {
        "id": "wBzeemtwg8OP"
      }
    },
    {
      "cell_type": "code",
      "source": [
        "with open(\"text.txt\", \"r\") as f:\n",
        "  content = f.read()\n",
        "  words = content.split()\n",
        "\n",
        "doc = nlp(content)\n",
        "words = [token.text for token in doc]"
      ],
      "metadata": {
        "id": "Bu0lHpVnvSHA"
      },
      "execution_count": 33,
      "outputs": []
    },
    {
      "cell_type": "markdown",
      "source": [
        "3) Clean non-alphabetic token\n"
      ],
      "metadata": {
        "id": "vuKq29VuztTA"
      }
    },
    {
      "cell_type": "code",
      "source": [
        "words = [word for word in words if word.isalpha()]\n",
        "# len(words) -- 5522"
      ],
      "metadata": {
        "id": "tkv4eoazvGqk"
      },
      "execution_count": 87,
      "outputs": []
    },
    {
      "cell_type": "markdown",
      "source": [
        "4) Count how many unique words appear in the text"
      ],
      "metadata": {
        "id": "eNX5oowmhEsN"
      }
    },
    {
      "cell_type": "code",
      "source": [
        "from collections import Counter\n",
        "word_freq = Counter(words)\n",
        "print(word_freq)\n",
        "print(\"Total quantity of unique words in text:\", len(word_freq))"
      ],
      "metadata": {
        "colab": {
          "base_uri": "https://localhost:8080/"
        },
        "id": "ENnw7UwMvgXR",
        "outputId": "2f02668b-9ceb-4c3b-8f13-cac693cc6ce7"
      },
      "execution_count": 88,
      "outputs": [
        {
          "output_type": "stream",
          "name": "stdout",
          "text": [
            "Counter({'the': 325, 'Jack': 226, 'Annie': 173, 'said': 146, 'He': 124, 'to': 118, 'was': 100, 'a': 95, 'The': 84, 'his': 69, 'of': 61, 'and': 58, 'at': 55, 'tree': 55, 'he': 54, 'up': 48, 'I': 48, 'in': 47, 'it': 46, 'She': 45, 'out': 44, 'house': 43, 'down': 37, 'looked': 36, 'her': 35, 'on': 32, 'she': 32, 'you': 31, 'book': 30, 'dinosaur': 29, 'And': 29, 'back': 27, 'Pteranodon': 26, 'But': 25, 'him': 24, 'with': 23, 'were': 23, 'hill': 23, 'A': 22, 'into': 22, 'for': 20, 'started': 19, 'window': 19, 'creature': 19, 'ladder': 18, 'had': 17, 'We': 17, 'we': 17, 'do': 16, 'It': 15, 'here': 15, 'whispered': 15, 'going': 15, 'through': 15, 'picture': 15, 'off': 15, 'woods': 14, 'shouted': 14, 'What': 14, 'this': 14, 'could': 14, 'Tyrannosaurus': 14, 'real': 13, 'time': 13, 'about': 13, 'go': 13, 'books': 13, 'ground': 13, 'Do': 13, 'No': 12, 'again': 12, 'called': 12, 'know': 12, 'their': 12, 'Henry': 12, 'toward': 12, 'Then': 12, 'they': 12, 'over': 12, 'magic': 12, 'There': 11, 'top': 11, 'head': 11, 'see': 11, 'away': 11, 'like': 11, 'one': 11, 'there': 11, 'from': 11, 'took': 11, 'put': 11, 'Oh': 10, 'all': 10, 'You': 10, 'that': 10, 'as': 10, 'long': 10, 'They': 10, 'notebook': 10, 'is': 9, 'what': 9, 'sky': 9, 'Come': 9, 'rope': 9, 'pointed': 9, 'look': 9, 'giant': 9, 'eyes': 9, 'still': 9, 'His': 9, 'us': 9, 'Go': 9, 'pack': 9, 'Triceratops': 9, 'medallion': 9, 'nests': 9, 'monster': 8, 'Frog': 8, 'Creek': 8, 'coming': 8, 'be': 8, 'Just': 8, 'around': 8, 'held': 8, 'Let': 8, 'grabbed': 8, 'are': 8, 'Are': 8, 'Okay': 8, 'think': 8, 'reached': 8, 'made': 8, 'magnolia': 8, 'just': 8, 'gold': 8, 'light': 7, 'world': 7, 'asked': 7, 'place': 7, 'not': 7, 'them': 7, 'turned': 7, 'backpack': 7, 'huge': 7, 'wish': 7, 'then': 7, 'standing': 7, 'did': 7, 'wrote': 7, 'wo': 7, 'believe': 7, 'person': 7, 'home': 6, 'tall': 6, 'oak': 6, 'filled': 6, 'pushed': 6, 'can': 6, 'far': 6, 'other': 6, 'saw': 6, 'very': 6, 'dinosaurs': 6, 'looking': 6, 'wind': 6, 'now': 6, 'grass': 6, 'nuts': 6, 'read': 6, 'ago': 6, 'too': 6, 'get': 6, 'no': 6, 'big': 6, 'stopped': 6, 'flower': 6, 'more': 6, 'sound': 6, 'if': 6, 'rex': 6, 'felt': 6, 'flashlight': 6, 'This': 5, 'got': 5, 'left': 5, 'late': 5, 'went': 5, 'way': 5, 'before': 5, 'who': 5, 'dark': 5, 'have': 5, 'An': 5, 'glasses': 5, 'distance': 5, 'door': 5, 'dog': 5, 'an': 5, 'cried': 5, 'Suddenly': 5, 'picked': 5, 'pulled': 5, 'ferns': 5, 'happened': 5, 'Where': 5, 'close': 5, 'When': 5, 'doing': 5, 'hilltop': 5, 'peeked': 5, 'found': 5, 'tuba': 5, 'duck': 5, 'billed': 5, 'by': 5, 'my': 5, 'Hurry': 5, 'Yeah': 4, 'sure': 4, 'raced': 4, 'disappeared': 4, 'trees': 4, 'Look': 4, 'pointing': 4, 'Wow': 4, 'two': 4, 'sighed': 4, 'almost': 4, 'nie': 4, 'tiny': 4, 'Shush': 4, 'these': 4, 'sticking': 4, 'me': 4, 'opened': 4, 'where': 4, 'wings': 4, 'crest': 4, 'straight': 4, 'began': 4, 'trying': 4, 'faster': 4, 'same': 4, 'landed': 4, 'So': 4, 'Like': 4, 'side': 4, 'talk': 4, 'tell': 4, 'nice': 4, 'stepped': 4, 'notes': 4, 'Maybe': 4, 'laughed': 4, 'softly': 4, 'flowers': 4, 'want': 4, 'promise': 4, 'walked': 4, 'air': 4, 'some': 4, 'something': 4, 'letter': 4, 'Someone': 4, 'pocket': 4, 'valley': 4, 'next': 4, 'chew': 4, 'babies': 4, 'Anatosauruses': 4, 'so': 4, 'run': 4, 'M': 4, 'medal': 4, 'Pennsylvania': 3, 'Run': 3, 'road': 3, 'old': 3, 'sun': 3, 'set': 3, 'better': 3, 'ever': 3, 'between': 3, 'That': 3, 'Who': 3, 'built': 3, 'come': 3, 'kept': 3, 'Books': 3, 'man': 3, 'Very': 3, 'bright': 3, 'below': 3, 'In': 3, 'Hi': 3, 'supposed': 3, 'wonder': 3, 'Here': 3, 'bookmark': 3, 'Hey': 3, 'ancient': 3, 'flying': 3, 'reptile': 3, 'above': 3, 'live': 3, 'fell': 3, 'Get': 3, 'Absolutely': 3, 'covered': 3, 'glided': 3, 'base': 3, 'stop': 3, 'stood': 3, 'ca': 3, 'lived': 3, 'Nice': 3, 'gasped': 3, 'hand': 3, 'always': 3, 'deep': 3, 'breath': 3, 'would': 3, 'stared': 3, 'arm': 3, 'pencil': 3, 'probably': 3, 'first': 3, 'people': 3, 'than': 3, 'how': 3, 'smart': 3, 'Well': 3, 'jaws': 3, 'On': 3, 'Bye': 3, 'scrambled': 3, 'after': 3, 'tumbled': 3, 'Only': 3, 'behind': 3, 'eating': 3, 'right': 3, 'Promise': 3, 'followed': 3, 'face': 3, 'jumped': 3, 'Too': 3, 'As': 3, 'came': 3, 'gone': 3, 'staring': 3, 'heard': 3, 'bellowing': 3, 'panic': 3, 'arms': 3, 'stand': 3, 'your': 3, 'mean': 3, 'hurried': 3, 'mothers': 3, 'seemed': 3, 'starting': 3, 'teeth': 3, 'past': 3, 'leaped': 3, 'Wait': 3, 'Think': 3, 'Good': 3, 'Climb': 3, 'sailed': 3, 'onto': 3, 'okay': 3, 'Ja': 3, 'ack': 3, 'Mom': 3, 'trip': 3, 'someone': 3, 'anyone': 3, 'say': 3, 'Of': 3, 'course': 3, 'House': 3, 'shined': 3, 'Woods': 2, 'ran': 2, 'brother': 2, 'seven': 2, 'year': 2, 'sister': 2, 'loved': 2, 'pretend': 2, 'stuff': 2, 'things': 2, 'Watch': 2, 'Race': 2, 'alone': 2, 'waited': 2, 'groaned': 2, 'good': 2, 'lit': 2, 'golden': 2, 'afternoon': 2, 'under': 2, 'seen': 2, 'must': 2, 'moment': 2, 'call': 2, 'when': 2, 'poked': 2, 'gripped': 2, 'sides': 2, 'crawled': 2, 'covers': 2, 'New': 2, 'Down': 2, 'tops': 2, 'direction': 2, 'our': 2, 'many': 2, 'belong': 2, 'even': 2, 'help': 2, 'himself': 2, 'touched': 2, 'bat': 2, 'studied': 2, 'soaring': 2, 'screamed': 2, 'Stop': 2, 'pretending': 2, 'really': 2, 'gliding': 2, 'soared': 2, 'nearly': 2, 'whistling': 2, 'spin': 2, 'spinning': 2, 'shut': 2, 'everything': 2, 'high': 2, 'Is': 2, 'stream': 2, 'coasted': 2, 'means': 2, 'Nothing': 2, 'shook': 2, 'guard': 2, 'spread': 2, 'Cretaceous': 2, 'period': 2, 'million': 2, 'years': 2, 'friends': 2, 'neck': 2, 'talking': 2, 'few': 2, 'alert': 2, 'move': 2, 'forward': 2, 'whole': 2, 'brain': 2, 'mutant': 2, 'opening': 2, 'closing': 2, 'Did': 2, 'gave': 2, 'panting': 2, 'horns': 2, 'eat': 2, 'flipped': 2, 'pages': 2, 'caption': 2, 'slammed': 2, 'meat': 2, 'take': 2, 'slung': 2, 'shoulder': 2, 'kiss': 2, 'Be': 2, 'Slowly': 2, 'knelt': 2, 'slipped': 2, 'nudged': 2, 'fingers': 2, 'smiled': 2, 'Was': 2, 'view': 2, 'gazed': 2, 'Clutching': 2, 'jeans': 2, 'another': 2, 'Crawl': 2, 'crawling': 2, 'crouched': 2, 'heads': 2, 'quiet': 2, 'raised': 2, 'Thanks': 2, 'saving': 2, 'running': 2, 'mother': 2, 'moved': 2, 'closer': 2, 'let': 2, 'Anatosaurus': 2, 'terrible': 2, 'across': 2, 'plain': 2, 'walking': 2, 'legs': 2, 'Set': 2, 'dashed': 2, 'together': 2, 'Seconds': 2, 'later': 2, 'Yay': 2, 'All': 2, 'been': 2, 'Another': 2, 'seem': 2, 'land': 2, 'today': 2, 'might': 2, 'should': 2, 'tightly': 2, 'Over': 2, 'bird': 2, 'need': 2, 'find': 2, 'Dark': 2, 'ing': 2, 'lost': 2, 'Dad': 2, 'dream': 2, 'teacher': 2, 'climb': 2, 'Knight': 2, 'Dawn': 2, 'Mary': 2, 'Pope': 2, 'Osborne': 2, 'Random': 2, 'sleep': 2, 'early': 2, 'Now': 2, 'list': 2, 'fo': 2, 'Not': 2, 'Or': 2, 'third': 2, 'write': 2, 'Medallion': 2, 'belt': 2, 'Into': 1, 'Help': 1, 'spending': 1, 'eight': 1, 'half': 1, 'liked': 1, 'thanks': 1, 'headed': 1, 'Standing': 1, 'longest': 1, 'tucked': 1, 'branches': 1, 'highest': 1, 'never': 1, 'belongs': 1, 'teeny': 1, 'minute': 1, 'climbing': 1, 'inside': 1, 'MoRSfcer': 1, 'hole': 1, 'floor': 1, 'everywhere': 1, 'dusty': 1, 'shiny': 1, 'peering': 1, 'library': 1, 'elementary': 1, 'school': 1, 'park': 1, 'Sure': 1, 'enough': 1, 'white': 1, 'wooden': 1, 'green': 1, 'porch': 1, 'Next': 1, 'neighbor': 1, 'black': 1, 'glanced': 1, 'owns': 1, 'noticed': 1, 'bookmarks': 1, 'castle': 1, 'cover': 1, 'page': 1, 'blue': 1, 'silk': 1, 'castles': 1, 'odd': 1, 'Ahhh': 1, 'Amonster': 1, 'treetops': 1, 'weird': 1, 'skinny': 1, 'beak': 1, 'curved': 1, 'glider': 1, 'plane': 1, 'blow': 1, 'leaves': 1, 'trembled': 1, 'High': 1, 'happening': 1, 'Faster': 1, 'squeezed': 1, 'Sunlight': 1, 'slanted': 1, 'Wfeere': 1, 'outside': 1, 'exactly': 1, 'winding': 1, 'sloping': 1, 'volcanoes': 1, 'Wh': 1, 'stammered': 1, 'loud': 1, 'None': 1, 'either': 1, 'maybe': 1, 'words': 1, 'vanished': 1, 'Impossible': 1, 'Talk': 1, 'crazy': 1, 'dropped': 1, 'boldly': 1, 'make': 1, 'animals': 1, 'stroked': 1, 'saying': 1, 'examine': 1, 'Take': 1, 'scientist': 1, 'only': 1, 'feet': 1, 'soft': 1, 'feels': 1, 'snorted': 1, 'Feel': 1, 'cautiously': 1, 'brushed': 1, 'Interesting': 1, 'thin': 1, 'layer': 1, 'fuzz': 1, 'skin': 1, 'Soft': 1, 'huh': 1, 'j': 1, 'Taking': 1, 'bony': 1, 'longer': 1, 'count': 1, 'bigger': 1, 'bean': 1, 'feel': 1, 'brair': 1, 'tilted': 1, 'leaned': 1, 'fixed': 1, 'pair': 1, 'scissors': 1, 'Forget': 1, 'Scissor': 1, 'Gold': 1, 'Grass': 1, 'threw': 1, 'push': 1, 'Quit': 1, 'Eating': 1, 'rhinoceros': 1, 'three': 1, 'instead': 1, 'Two': 1, 'ones': 1, 'nose': 1, 'shield': 1, 'thing': 1, 'Does': 1, 'HI': 1, 'weighed': 1, 'pounds': 1, 'plants': 1, 'shoved': 1, 'pet': 1, 'kind': 1, 'blew': 1, 'soon': 1, 'cheerfully': 1, 'led': 1, 'carefully': 1, 'bottom': 1, 'kneeled': 1, 'fat': 1, 'bush': 1, 'beside': 1, 'speak': 1, 'finger': 1, 'lips': 1, 'incredibly': 1, 'Bigger': 1, 'truck': 1, 'eate': 1, 'Viewers': 1, 'ignored': 1, 'erfte': 1, 'slcwiu': 1, 'hard': 1, 'herself': 1, 'teasing': 1, 'waved': 1, 'grab': 1, 'full': 1, 'spotted': 1, 'Half': 1, 'mouth': 1, 'Oops': 1, 'looks': 1, 'calmly': 1, 'loped': 1, 'See': 1, 'grunted': 1, 'wee': 1, 'glittering': 1, 'engraved': 1, 'fancy': 1, 'Dfoosaar': 1, 'Vallej': 1, 'busy': 1, 'picking': 1, 'paying': 1, 'attention': 1, 'wow': 1, 'kill': 1, 'muttered': 1, 'stuffed': 1, 'shriek': 1, 'well': 1, 'Big': 1, 'mud': 1, 'crouching': 1, 'gigantic': 1, 'slowly': 1, 'towering': 1, 'Waving': 1, 'Making': 1, 'Move': 1, 'Still': 1, 'froze': 1, 'Keep': 1, 'inched': 1, 'farther': 1, 'Until': 1, 'Stay': 1, 'Bow': 1, 'Pretend': 1, 'Chew': 1, 'Yes': 1, 'comes': 1, 'both': 1, 'bowed': 1, 'pretended': 1, 'Soon': 1, 'grew': 1, 'mad': 1, 'anymore': 1, 'use': 1, 'nest': 1, 'nearby': 1, 'sorry': 1, 'worry': 1, 'sad': 1, 'waddled': 1, 'quickly': 1, 'examined': 1, 'Some': 1, 'colonies': 1, 'While': 1, 'sat': 1, 'others': 1, 'hunted': 1, 'food': 1, 'Feeding': 1, 'suddenly': 1, 'barged': 1, 'afraid': 1, 'why': 1, 'throw': 1, 'enormous': 1, 'ugly': 1, 'swinging': 1, 'thick': 1, 'tail': 1, 'dangling': 1, 'wide': 1, 'open': 1, 'Even': 1, 'gleaming': 1, 'Read': 1, 'To': 1, 'Through': 1, 'wandering': 1, 'Duck': 1, 'hunched': 1, 'After': 1, 'Coast': 1, 'clear': 1, 'Remember': 1, 'forget': 1, 'does': 1, 'Plus': 1, 'With': 1, 'lying': 1, 'fear': 1, 'send': 1, 'Ready': 1, 'charged': 1, 'scooped': 1, 'Giant': 1, 'Shadow': 1, 'heart': 1, 'beating': 1, 'fast': 1, 'hardly': 1, 'horrible': 1, 'steak': 1, 'knives': 1, 'peered': 1, 'information': 1, 'largest': 1, 'animal': 1, 'If': 1, 'alive': 1, 'human': 1, 'bite': 1, 'Great': 1, 'hide': 1, 'stampede': 1, 'wait': 1, 'leave': 1, 'wandered': 1, 'Something': 1, 'caught': 1, 'eye': 1, 'watched': 1, 'hop': 1, 'flapping': 1, 'roar': 1, 'hit': 1, 'shaking': 1, 'Should': 1, 'Dinosaur': 1, 'Valley': 1, 'shadow': 1, 'overhead': 1, 'Amazing': 1, 'Ride': 1, 'heavy': 1, 'thought': 1, 'flashing': 1, 'sunlight': 1, 'eased': 1, 'lifted': 1, 'teetered': 1, 'steadied': 1, 'rose': 1, 'chomping': 1, 'circled': 1, 'grazing': 1, 'amazing': 1, 'miracle': 1, 'feather': 1, 'rushing': 1, 'hair': 1, 'smelled': 1, 'sweet': 1, 'fresh': 1, 'whooped': 1, 'riding': 1, 'bushes': 1, 'carried': 1, 'slid': 1, 'life': 1, 'fun': 1, 'tried': 1, 'wobbly': 1, 'bit': 1, 'dizzy': 1, 'heading': 1, 'bolted': 1, 'against': 1, 'leaf': 1, 'Make': 1, 'aside': 1, 'tore': 1, 'photograph': 1, 'moan': 1, 'Softly': 1, 'yelled': 1, 'spun': 1, 'closed': 1, 'Home': 1, 'Before': 1, 'sing': 1, 'Outside': 1, 'exact': 1, 'passed': 1, 'since': 1, 'voice': 1, 'front': 1, 'stuck': 1, 'dazed': 1, 'simply': 1, 'shrugged': 1, 'wished': 1, 'guess': 1, 'forgot': 1, 'round': 1, 'stands': 1, 'distant': 1, 'cry': 1, 'last': 1, 'bye': 1, 'hopped': 1, 'story': 1, 'My': 1, 'already': 1, 'myself': 1, 'houses': 1, 'street': 1, 'clasped': 1, 'engraving': 1, 'tingle': 1, 'happy': 1, 'explain': 1, 'knew': 1, 'Tomorrow': 1, 'happens': 1, 'Special': 1, 'Preview': 1, 'Magic': 1, 'Tree': 1, 'VS': 1, 'C': 1, 'J': 1, 'Available': 1, 'Excerpt': 1, 'copyright': 1, 'Published': 1, 'Children': 1, 'division': 1, 'York': 1, 'clock': 1, 'Yesterday': 1, 'strange': 1, 'figure': 1, 'bed': 1, 'flMt': 1, 'tftmAs': 1, 'loTS': 1, 'bcck': 1, 'm': 1, 'o': 1, 'lutsin': 1, 'itrrlt': 1, 'erf': 1, 'dinewrs': 1, 'yieturt': 1, 'irocj': 1, 'ojirft': 1, 'HC': 1, 'botH': 1, 'frOCf': 1, 'any': 1, 'mom': 1, 'dad': 1, 'grade': 1, 'Watkins': 1, 'Ca': 1, 'doorway': 1, 'Nope': 1, 'Me': 1, 'neither': 1, 'added': 1, 'writing': 1, 'facts': 1, 'fact': 1, 'yet': 1, 'catch': 1, 'sleeping': 1, 'worried': 1, 'or': 1, 'kids': 1, 'gray': 1, 'dawn': 1, 'dressed': 1, 'meet': 1, 'tiptoed': 1, 'quietly': 1, 'mouse': 1, 'warm': 1, 'sweatshirt': 1, 'sneakers': 1, 'tossed': 1, 'crept': 1, 'downstairs': 1, 'waiting': 1, 'Ta': 1, 'da': 1, 'wand': 1, 'Shhh': 1, 'wake': 1, 'turn': 1, 'nodded': 1, 'clipped': 1, 'cool': 1, 'morning': 1, 'Crickets': 1, 'chirping': 1, 'barked': 1, 'Quiet': 1, 'barking': 1, 'Animals': 1, 'wet': 1, 'lawn': 1, 'until': 1, 'switched': 1, 'Step': 1, 'step': 1, 'scary': 1, 'Gotcha': 1, 'shining': 1, 'frowned': 1, 'Cut': 1, 'scared': 1, 'glared': 1, 'serious': 1, 'Looking': 1, 'moving': 1, 'mysterious': 1, 'At': 1, 'tallest': 1})\n",
            "Total quantity of unique words in text: 1056\n"
          ]
        }
      ]
    },
    {
      "cell_type": "markdown",
      "source": [
        "5) Create a unique list with the high frequency words from Kindergarten to Third Grade"
      ],
      "metadata": {
        "id": "-0oR69JbqFKb"
      }
    },
    {
      "cell_type": "code",
      "source": [
        "hf_K = ['a', 'me', 'to', 'yes', 'big', 'I', 'go', 'in', 'cat', 'for', 'is', 'at', 'on', 'dog', 'he', 'the', 'you', 'like', 'up', 'she', 'mom', 'we', 'my', 'with', 'this', 'dad', 'it', 'by',\n",
        "        'said', 'look', 'can', 'no', 'love', 'play', 'went', 'see', 'am', 'do', 'was', 'and']\n",
        "hf_F = ['after', 'have', 'please', 'all', 'her', 'saw', 'an', 'here', 'should', 'are', 'him', 'so', 'as', 'his', 'some', 'be', 'I’m', 'thank', 'because', 'if', 'that', 'but', 'into', 'them', \n",
        "        'came', 'just', 'then', 'come', 'know', 'they', 'could', 'little', 'there', 'day', 'make', 'us', 'did', 'many', 'very', 'end', 'new', 'want', 'from', 'not', 'were', 'get', 'of', 'what',\n",
        "        'goes', 'one', 'when', 'going', 'or', 'where', 'good', 'our', 'who', 'had', 'out', 'will', 'has', 'over', 'would','your' ]\n",
        "hf_S = ['after', 'have', 'please', 'all', 'her', 'saw', 'an', 'here', 'should', 'are', 'him', 'so', 'as', 'his', 'some', 'be', 'I’m', 'thank', 'because', 'if', 'that', 'but', 'into', 'them', \n",
        "        'came', 'just', 'then', 'come', 'know', 'they', 'could', 'little', 'there', 'day', 'make', 'us', 'did', 'many', 'very', 'end', 'new', 'want', 'from', 'not', 'were', 'get', 'of', 'what',\n",
        "        'goes', 'one', 'when', 'going', 'or', 'where', 'good', 'our', 'who', 'had', 'out', 'will', 'has', 'over', 'would','your' ]\n",
        "hf_T = ['also', 'animal', 'April', 'asked', 'August', 'books', 'brother', 'call', 'care', 'caught', 'caught', 'children', 'city', 'December', 'drink', 'eight', 'eleven',\n",
        "        'ever', 'father', 'favorite', 'February', 'found', 'Friday', 'friend', 'give', 'also', 'animal', 'April', 'asked', 'August', 'books', 'brother', 'call', 'care',\n",
        "        'caught', 'children', 'city', 'December', 'drink', 'eight', 'eleven', 'ever', 'father', 'favorite', 'February', 'found', 'Friday', 'friend', 'give', 'great', \n",
        "        'also' 'animal' 'April', 'asked', 'August', 'books', 'brother', 'call', 'care', 'caught', 'caught', 'children', 'city', 'December', 'drink', 'eight', 'eleven',\n",
        "        'ever', 'father', 'favorite', 'February', 'found', 'Friday', 'friend', 'give', 'great', 'gym', 'half', 'hour', 'hurt', 'January', 'July', 'June', 'kind', 'line', \n",
        "        'mail', 'March', 'May', 'maybe', 'Michigan', 'might', 'Monday', 'mother', 'must', 'night', 'nine', 'November', 'October', 'old', 'other', 'people', 'pretty', 'questions',\n",
        "        'rain', 'rest', 'same', 'Saturday', 'September', 'seven', 'sister', 'snow', 'something', 'stay', 'street', 'such', 'Sunday', 'sure', 'talk', 'teacher', 'tell', \n",
        "        'thing', 'Thursday', 'too', 'Tuesday', 'twelve', 'Wednesday', 'phone']\n"
      ],
      "metadata": {
        "id": "Gvf31s9c1B2s"
      },
      "execution_count": 78,
      "outputs": []
    },
    {
      "cell_type": "code",
      "source": [
        "combined_list = hf_K + hf_F + hf_S + hf_T\n",
        "unique_list = list(set(combined_list))\n",
        "unique_list.sort()\n",
        "#print(unique_list)\n",
        "print(\"Total list of word that children learn as high frequency word from Kindergarten to Third Grade: \", len(unique_list))"
      ],
      "metadata": {
        "colab": {
          "base_uri": "https://localhost:8080/"
        },
        "id": "PsJ2-7-MQyA-",
        "outputId": "26cbe183-484a-4539-819e-15557587a0dc"
      },
      "execution_count": 72,
      "outputs": [
        {
          "output_type": "stream",
          "name": "stdout",
          "text": [
            "Total list of word that children learn as high frequency word from Kindergarten to Third Grade:  181\n"
          ]
        }
      ]
    },
    {
      "cell_type": "markdown",
      "source": [
        "6) Count the ocurrence of each of the HF words in the text "
      ],
      "metadata": {
        "id": "P66eSFq8qDk2"
      }
    },
    {
      "cell_type": "code",
      "source": [
        "from collections import Counter\n",
        "filter_word = Counter(word_freq)\n",
        "counts = {word: filter_word[word] for word in combined_list}\n",
        "#print(counts)"
      ],
      "metadata": {
        "colab": {
          "base_uri": "https://localhost:8080/"
        },
        "id": "u8S8PoUmVPr1",
        "outputId": "ffce7d01-e884-4bfe-a4e7-c1a109da8692"
      },
      "execution_count": 90,
      "outputs": [
        {
          "output_type": "stream",
          "name": "stdout",
          "text": [
            "{'a': 95, 'me': 4, 'to': 118, 'yes': 0, 'big': 6, 'I': 48, 'go': 13, 'in': 47, 'cat': 0, 'for': 20, 'is': 9, 'at': 55, 'on': 32, 'dog': 5, 'he': 54, 'the': 325, 'you': 31, 'like': 11, 'up': 48, 'she': 32, 'mom': 1, 'we': 17, 'my': 5, 'with': 23, 'this': 14, 'dad': 1, 'it': 46, 'by': 5, 'said': 146, 'look': 9, 'can': 6, 'no': 6, 'love': 0, 'play': 0, 'went': 5, 'see': 11, 'am': 0, 'do': 16, 'was': 100, 'and': 58, 'after': 3, 'have': 5, 'please': 0, 'all': 10, 'her': 35, 'saw': 6, 'an': 5, 'here': 15, 'should': 2, 'are': 8, 'him': 24, 'so': 4, 'as': 10, 'his': 69, 'some': 4, 'be': 8, 'I’m': 0, 'thank': 0, 'because': 0, 'if': 6, 'that': 10, 'but': 0, 'into': 22, 'them': 7, 'came': 3, 'just': 8, 'then': 7, 'come': 3, 'know': 12, 'they': 12, 'could': 14, 'little': 0, 'there': 11, 'day': 0, 'make': 1, 'us': 9, 'did': 7, 'many': 2, 'very': 6, 'end': 0, 'new': 0, 'want': 4, 'from': 11, 'not': 7, 'were': 23, 'get': 6, 'of': 61, 'what': 9, 'goes': 0, 'one': 11, 'when': 2, 'going': 15, 'or': 1, 'where': 4, 'good': 2, 'our': 2, 'who': 5, 'had': 17, 'out': 44, 'will': 0, 'has': 0, 'over': 12, 'would': 3, 'your': 3, 'also': 0, 'animal': 1, 'April': 0, 'asked': 7, 'August': 0, 'books': 13, 'brother': 2, 'call': 2, 'care': 0, 'caught': 1, 'children': 0, 'city': 0, 'December': 0, 'drink': 0, 'eight': 1, 'eleven': 0, 'ever': 3, 'father': 0, 'favorite': 0, 'February': 0, 'found': 5, 'Friday': 0, 'friend': 0, 'give': 0, 'great': 0, 'alsoanimalApril': 0, 'gym': 0, 'half': 1, 'hour': 0, 'hurt': 0, 'January': 0, 'July': 0, 'June': 0, 'kind': 1, 'line': 0, 'mail': 0, 'March': 0, 'May': 0, 'maybe': 1, 'Michigan': 0, 'might': 2, 'Monday': 0, 'mother': 2, 'must': 2, 'night': 0, 'nine': 0, 'November': 0, 'October': 0, 'old': 3, 'other': 6, 'people': 3, 'pretty': 0, 'questions': 0, 'rain': 0, 'rest': 0, 'same': 4, 'Saturday': 0, 'September': 0, 'seven': 2, 'sister': 2, 'snow': 0, 'something': 4, 'stay': 0, 'street': 1, 'such': 0, 'Sunday': 0, 'sure': 4, 'talk': 4, 'teacher': 2, 'tell': 4, 'thing': 1, 'Thursday': 0, 'too': 6, 'Tuesday': 0, 'twelve': 0, 'Wednesday': 0, 'phone': 0}\n"
          ]
        }
      ]
    },
    {
      "cell_type": "code",
      "source": [
        "total_count = 0\n",
        "for key, value in counts.items():\n",
        "    total_count += value\n",
        "print(\"\\nTotal quantity of high frequency words in the text: \", total_count)\n",
        "print(\"\\nTotal words of text\", len(words))\n",
        "percentage = total_count/len(words)*100\n",
        "#print(\"\\nTotal words that belongs of the category high frequency words - 1 Grade: \", total)\n",
        "print(\"\\nTotal percentage of words:\", percentage)"
      ],
      "metadata": {
        "colab": {
          "base_uri": "https://localhost:8080/"
        },
        "id": "_-bVWp2yVqRY",
        "outputId": "92c3760d-b940-4907-c6ac-4841e8717fb5"
      },
      "execution_count": 93,
      "outputs": [
        {
          "output_type": "stream",
          "name": "stdout",
          "text": [
            "\n",
            "Total quantity of high frequency words in the text:  2102\n",
            "\n",
            "Total words of text 5522\n",
            "\n",
            "Total percentage of words: 38.06591814559942\n"
          ]
        }
      ]
    },
    {
      "cell_type": "markdown",
      "source": [
        "### Conclusion:\n",
        "\n",
        "A child in third grade can read 38% of the text.\n",
        "As a side note, third grade is the year when kids go from 'learning to read' to 'reading to learn'.\n",
        "Reading proficiently by the end of third grade is a crucial marker in a child's educational development. Failure to read proficiently is linked to higher rates of school dropout.\n"
      ],
      "metadata": {
        "id": "INjGuhj9qhos"
      }
    }
  ]
}